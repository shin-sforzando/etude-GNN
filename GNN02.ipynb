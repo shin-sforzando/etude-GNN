{
  "nbformat": 4,
  "nbformat_minor": 0,
  "metadata": {
    "colab": {
      "name": "GNN02.ipynb",
      "provenance": [],
      "toc_visible": true,
      "authorship_tag": "ABX9TyMoJ24dtOGOznH9QwVxMD5b",
      "include_colab_link": true
    },
    "kernelspec": {
      "name": "python3",
      "display_name": "Python 3"
    }
  },
  "cells": [
    {
      "cell_type": "markdown",
      "metadata": {
        "id": "view-in-github",
        "colab_type": "text"
      },
      "source": [
        "<a href=\"https://colab.research.google.com/github/shin-sforzando/etude-GNN/blob/master/GNN02.ipynb\" target=\"_parent\"><img src=\"https://colab.research.google.com/assets/colab-badge.svg\" alt=\"Open In Colab\"/></a>"
      ]
    },
    {
      "cell_type": "markdown",
      "metadata": {
        "id": "JReLBMyYY3Zi",
        "colab_type": "text"
      },
      "source": [
        "# Graphical Neural Network - 02\n",
        "\n",
        "## 概要\n",
        "\n",
        "(T. B. D.)"
      ]
    },
    {
      "cell_type": "markdown",
      "metadata": {
        "id": "YfwqM0xKZAq4",
        "colab_type": "text"
      },
      "source": [
        "## 学術界でのGNNの扱い\n",
        "\n",
        "(T. B. D.)"
      ]
    },
    {
      "cell_type": "markdown",
      "metadata": {
        "id": "r92J7tQ5ZHcw",
        "colab_type": "text"
      },
      "source": [
        "## Pythonでグラフ構造を扱う\n",
        "\n",
        "GNNに行く前に、まずはPythonでグラフ構造を自由に扱えるようになりたい。\n",
        "\n",
        "### 分析系\n",
        "\n",
        "- NetworkX\n",
        "- Gephi\n",
        "- graph-tool\n",
        "- igraph\n",
        "\n",
        "### 可視化系\n",
        "\n",
        "- Matplotlib\n",
        "- Graphviz"
      ]
    }
  ]
}