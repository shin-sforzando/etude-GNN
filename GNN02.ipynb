{
  "nbformat": 4,
  "nbformat_minor": 0,
  "metadata": {
    "colab": {
      "name": "GNN02.ipynb",
      "provenance": [],
      "toc_visible": true,
      "authorship_tag": "ABX9TyNa7HVWSPbHJK9nzHnUWi7H",
      "include_colab_link": true
    },
    "kernelspec": {
      "name": "python3",
      "display_name": "Python 3"
    }
  },
  "cells": [
    {
      "cell_type": "markdown",
      "metadata": {
        "id": "view-in-github",
        "colab_type": "text"
      },
      "source": [
        "<a href=\"https://colab.research.google.com/github/shin-sforzando/etude-GNN/blob/master/GNN02.ipynb\" target=\"_parent\"><img src=\"https://colab.research.google.com/assets/colab-badge.svg\" alt=\"Open In Colab\"/></a>"
      ]
    },
    {
      "cell_type": "markdown",
      "metadata": {
        "id": "JReLBMyYY3Zi",
        "colab_type": "text"
      },
      "source": [
        "# Graph Neural Network - 02\n",
        "\n",
        "## 概要\n",
        "\n",
        "(T. B. D.)"
      ]
    },
    {
      "cell_type": "markdown",
      "metadata": {
        "id": "YfwqM0xKZAq4",
        "colab_type": "text"
      },
      "source": [
        "## 学術界でのGNNの扱い\n",
        "\n",
        "GNN研究者は特にICLR(International Conference on Learning Representations)、次点でICML(International Conference on Machine Learning)）への論文投稿を目標にしているようだ。\n",
        "NeurIPS (Neural Information Processing Systems; 旧NIPS)も毎年GNNに関するセッションはあるが、GNNに関する論文数は現状、ICLRが一番多い。\n",
        "\n",
        "2019年のICLRでAcceptされた論文のうち、10%がGNN関連。\n",
        "\n",
        "### [What graph neural networks cannot learn: depth vs width (Andreas Loukas)](https://openreview.net/attachment?id=B1l2bp4YwS&name=original_pdf)\n",
        "\n",
        "スイス連邦工科大のAndreasがICLR2019で示唆したのは、現在のGNNで扱える程度のネットワークの大きさ（厳密には `幅 x 深さ` ）ではほとんど実用的な学習が行えないだろうという予測。\n",
        "この論文をreferして、様々な追検証が行われ、後のNeurIPSなどで議論が交わされた。\n",
        "「不可能の証明」系の論文なので、過去の著名な学説をおおよそカバーした内容で最初に読むのにおすすめ。"
      ]
    },
    {
      "cell_type": "markdown",
      "metadata": {
        "id": "r92J7tQ5ZHcw",
        "colab_type": "text"
      },
      "source": [
        "## Pythonでグラフ構造を扱う\n",
        "\n",
        "GNNに行く前に、まずはPythonでグラフ構造を自由に扱えるようになりたい。\n",
        "\n",
        "### 分析系\n",
        "\n",
        "- NetworkX\n",
        "- Gephi\n",
        "- graph-tool\n",
        "- igraph\n",
        "\n",
        "### 可視化系\n",
        "\n",
        "- Matplotlib\n",
        "- Graphviz"
      ]
    }
  ]
}